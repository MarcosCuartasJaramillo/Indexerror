{
  "nbformat": 4,
  "nbformat_minor": 0,
  "metadata": {
    "colab": {
      "provenance": [],
      "authorship_tag": "ABX9TyN/58ng1NObi7LYrsMAoUaw",
      "include_colab_link": true
    },
    "kernelspec": {
      "name": "python3",
      "display_name": "Python 3"
    },
    "language_info": {
      "name": "python"
    }
  },
  "cells": [
    {
      "cell_type": "markdown",
      "metadata": {
        "id": "view-in-github",
        "colab_type": "text"
      },
      "source": [
        "<a href=\"https://colab.research.google.com/github/MarcosCuartasJaramillo/Indexerror/blob/main/Indexerror.ipynb\" target=\"_parent\"><img src=\"https://colab.research.google.com/assets/colab-badge.svg\" alt=\"Open In Colab\"/></a>"
      ]
    },
    {
      "cell_type": "code",
      "execution_count": null,
      "metadata": {
        "id": "jBWFAN0cHD82"
      },
      "outputs": [],
      "source": [
        "I = [1,3,5,7,9]\n",
        "\n",
        "try:\n",
        "  idx = int(input('Enter index: '))\n",
        "  print(I[idx])\n",
        "except IndexError:\n",
        "  print('Index value out of bounds')\n",
        "except ValueError:\n",
        "  print('Index ahould contain only integers')\n",
        "else:\n",
        "  print('All good')\n",
        "finally:\n",
        "  print('This will be displayed always')\n",
        "\n"
      ]
    }
  ]
}